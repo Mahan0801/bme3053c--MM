{
 "cells": [
  {
   "cell_type": "markdown",
   "metadata": {},
   "source": [
    "# BME3053C - Computer Applications for BME\n",
    "\n",
    "<br/>\n",
    "\n",
    "<h1 align=\"center\">Cursor Introduction</h1>\n",
    "\n",
    "---\n",
    "\n",
    "<center><h2>Lesson 07</h2></center>"
   ]
  },
  {
   "cell_type": "markdown",
   "metadata": {},
   "source": [
    "# What is Cursor?\n",
    "\n",
    "Cursor is an innovative AI-powered code editor that revolutionizes the way developers write and manage code. It combines the functionality of a traditional code editor with advanced artificial intelligence to boost productivity and enhance the coding experience. Here are a few key points about Cursor:\n",
    "\n",
    "- It offers intelligent code completion and suggestions based on context.\n",
    "- Cursor can generate code snippets from natural language descriptions.\n",
    "- It provides powerful refactoring tools to improve code quality and readability.\n",
    "- The editor assists in debugging by identifying potential issues and offering solutions.\n",
    "- Cursor continually learns and adapts to your coding style, becoming more helpful over time."
   ]
  },
  {
   "cell_type": "markdown",
   "metadata": {},
   "source": [
    "# Installing Cursor\n",
    "\n",
    "1. Visit the official Cursor website: https://cursor.sh/\n",
    "2. Download the appropriate version for your operating system (Windows, macOS, or Linux)\n",
    "3. Run the installer and follow the on-screen instructions.\n",
    "   1. Select the option to pull downloaded extensions from vscode\n",
    "4. Install the shell cursor command:\n",
    "  - In Cursor, press Ctrl+Shift+P (Windows/Linux) or Cmd+Shift+P (Mac) to open the Command Palette\n",
    "  - Type \"Install 'cursor' command in PATH\" and select it from the list\n",
    "  - This will install the shell cursor command, allowing you to open Cursor from the terminal using the `cursor` command"
   ]
  },
  {
   "cell_type": "markdown",
   "metadata": {},
   "source": [
    "### AI Commands\n",
    "\n",
    "1. **Open AI Command Palette**: `Ctrl + K` (Windows/Linux) or `Cmd + K` (Mac)\n",
    "   - This opens a command palette where you can type natural language instructions for various AI-assisted tasks.\n",
    "   - Example: Type \"Explain the following code\" to get an explanation of selected code.\n",
    "\n",
    "2. **Generate Code from Comments**: `Ctrl + L` (Windows/Linux) or `Cmd + L` (Mac)\n",
    "   - Use this to generate code based on your comments or natural language descriptions.\n",
    "   - Example:\n",
    "     ```python\n",
    "     # Create a function that calculates the factorial of a number\n",
    "     # Press Ctrl + L or Cmd + L here, and Cursor will generate the function\n",
    "     ```\n",
    "3. **Inline AI Chat**: `Ctrl + I` (Windows/Linux) or `Cmd + I` (Mac)\n",
    "   - This opens an inline chat interface where you can ask questions or request assistance.\n",
    "   - Example: Place your cursor at the end of a line of code, press Ctrl + I, and ask \"How can I optimize this?\""
   ]
  },
  {
   "cell_type": "markdown",
   "metadata": {},
   "source": [
    "### Normal Chat vs Long Context Chat:\n",
    "\n",
    "1. Normal Chat:\n",
    "   - Uses a standard context window (typically around 2000-4000 tokens)\n",
    "   - Suitable for shorter conversations or specific queries\n",
    "   - May forget earlier parts of a long conversation\n",
    "   - Generally faster response times\n",
    "2. Long Context Chat:\n",
    "   - **To use Long Context Chat in Cursor, type '/long' before your prompt in the AI Command Palette.**\n",
    "   - Uses an extended context window (can be 8000 tokens or more)\n",
    "   - Better for maintaining context in lengthy conversations\n",
    "   - Can reference information from much earlier in the chat\n",
    "   - May have slightly slower response times due to processing more information\n",
    "   - Useful for complex tasks that require remembering multiple details\n"
   ]
  },
  {
   "cell_type": "markdown",
   "metadata": {},
   "source": [
    "\n",
    "### Additional Shortcuts\n",
    "*Similar to VSCode*\n",
    "\n",
    "1. **Navigation**:\n",
    "   - `Ctrl + P` (Windows/Linux) or `Cmd + P` (Mac): Quick file navigation\n",
    "   - `Ctrl + Shift + F` (Windows/Linux) or `Cmd + Shift + F` (Mac): Global search\n",
    "\n",
    "2. **Editing**:\n",
    "   - `Alt + Up/Down` (Windows/Linux) or `Option + Up/Down` (Mac): Move line up/down\n",
    "   - `Ctrl + /` (Windows/Linux) or `Cmd + /` (Mac): Toggle line comment\n",
    "   - `Ctrl + D` (Windows/Linux) or `Cmd + D` (Mac): Select next occurrence\n",
    "\n",
    "3. **Code Folding**:\n",
    "   - `Ctrl + Shift + [` (Windows/Linux) or `Cmd + Option + [` (Mac): Fold code block\n",
    "   - `Ctrl + Shift + ]` (Windows/Linux) or `Cmd + Option + ]` (Mac): Unfold code block\n",
    "\n",
    "4. **Multi-cursor**:\n",
    "   - `Alt + Click` (Windows/Linux) or `Option + Click` (Mac): Add cursor\n",
    "   - `Ctrl + Alt + Up/Down` (Windows/Linux) or `Cmd + Option + Up/Down` (Mac): Add cursor above/below\n",
    "\n",
    "5. **Terminal**:\n",
    "   - `Ctrl + \\` (Windows/Linux) or `Cmd + \\` (Mac): Toggle integrated terminal\n",
    "\n",
    "6. **Zen Mode**:\n",
    "   - `Ctrl + K Z` (Windows/Linux) or `Cmd + K Z` (Mac): Toggle Zen mode\n",
    "\n"
   ]
  },
  {
   "cell_type": "markdown",
   "metadata": {},
   "source": [
    "## Key Features of Cursor\n",
    "\n",
    "### 1. AI-Assisted Code Completion\n",
    "\n",
    "Cursor uses advanced language models to provide context-aware code suggestions.\n",
    "\n",
    "You don't need a specific shortcut for AI-assisted code completion. This feature works automatically as you type. However, you can use the AI commands to get more control over how the code should be modified."
   ]
  },
  {
   "cell_type": "markdown",
   "metadata": {},
   "source": [
    "### When Cursor suggests code, you'll notice:\n",
    "\n",
    "1. A ghosted text appears in gray, showing the suggested code completion.\n",
    "2. The suggestion is context-aware, based on your current code and programming language.\n",
    "3. Suggestions can range from a few characters to entire lines or blocks of code.\n",
    "4. As you continue typing, the suggestion may update in real-time.\n",
    "5. You might see multiple suggestions in a dropdown list, allowing you to choose the most appropriate one.\n",
    "6. For longer suggestions, you may see a preview of the entire block in a separate window.\n",
    "7. Cursor may also provide inline documentation or explanations for certain suggestions.\n",
    "\n",
    "**When Cursor suggests code, you can hit Tab to accept the suggestion or Esc to reject it.**\n",
    "\n",
    "Example:"
   ]
  },
  {
   "cell_type": "code",
   "execution_count": 1,
   "metadata": {},
   "outputs": [
    {
     "name": "stdout",
     "output_type": "stream",
     "text": [
      "The average of [1, 2, 3, 4, 5, 6, 7, 8, 9, 10] is: 5.5\n"
     ]
    }
   ],
   "source": [
    "def calculate_average(numbers):\n",
    "    if not numbers:\n",
    "        return 0\n",
    "    return sum(numbers) / len(numbers)\n",
    "\n",
    "# Generate a list of sample numbers\n",
    "sample_numbers = [1, 2, 3, 4, 5, 6, 7, 8, 9, 10]\n",
    "\n",
    "# Print the function result\n",
    "print(f\"The average of {sample_numbers} is: {calculate_average(sample_numbers)}\")\n",
    "\n",
    "    # Start typing and let Cursor suggest the implementation"
   ]
  },
  {
   "cell_type": "code",
   "execution_count": null,
   "metadata": {},
   "outputs": [],
   "source": [
    "# Change the names of the variables to make them more descriptive. Use Tab to accept Cursor's autocomplete suggestions.\n",
    "length = 3\n",
    "width = 4\n",
    "\n",
    "# Calculate the area of a rectangle\n",
    "area = length * width\n"
   ]
  },
  {
   "cell_type": "markdown",
   "metadata": {},
   "source": [
    "### 2. Natural Language Code Generation\n",
    "\n",
    "You can describe what you want to do in plain English, and Cursor will generate code for you.\n",
    "\n",
    "Example:"
   ]
  },
  {
   "cell_type": "code",
   "execution_count": null,
   "metadata": {},
   "outputs": [],
   "source": [
    "# Ask Cursor: \"Write a function to find the maximum value in a list\"\n",
    "def find_maximum(numbers):\n",
    "    if not numbers:\n",
    "        raise ValueError(\"The input list is empty\")\n",
    "    \n",
    "    return max(numbers)\n",
    "\n",
    "# Example usage\n",
    "sample_numbers = [3, 7, 2, 9, 1, 5]\n",
    "print(f\"The maximum value in {sample_numbers} is: {find_maximum(sample_numbers)}\")"
   ]
  },
  {
   "cell_type": "markdown",
   "metadata": {},
   "source": [
    "### 3. Code Refactoring\n",
    "\n",
    "Cursor can help you improve your code structure and readability.\n",
    "\n",
    "Example:"
   ]
  },
  {
   "cell_type": "code",
   "execution_count": 9,
   "metadata": {},
   "outputs": [],
   "source": [
    "# Ask Cursor: \"Refactor this function to use list comprehension\"\n",
    "def square_numbers(numbers):\n",
    "    return [num ** 2 for num in numbers]"
   ]
  },
  {
   "cell_type": "markdown",
   "metadata": {},
   "source": [
    "### 4. Debugging Assistance\n",
    "\n",
    "Cursor can help identify and fix errors in your code.\n",
    "\n",
    "Example:"
   ]
  },
  {
   "cell_type": "code",
   "execution_count": 4,
   "metadata": {},
   "outputs": [
    {
     "name": "stdout",
     "output_type": "stream",
     "text": [
      "Error: Cannot divide by zero\n"
     ]
    }
   ],
   "source": [
    "# Ask Cursor: \"Debug this code\"\n",
    "def divide_numbers(a, b):\n",
    "    if b == 0:\n",
    "        raise ValueError(\"Cannot divide by zero\")\n",
    "    return a / b\n",
    "\n",
    "try:\n",
    "    result = divide_numbers(10, 0)\n",
    "    print(result)\n",
    "except ValueError as e:\n",
    "    print(f\"Error: {e}\")\n",
    "def divide_numbers(a, b):\n",
    "    return a / b\n",
    "\n",
    "result = divide_numbers(10, 0)\n",
    "print(result)"
   ]
  },
  {
   "cell_type": "markdown",
   "metadata": {},
   "source": [
    "### 5. Documentation Generation\n",
    "\n",
    "Cursor can automatically generate documentation for your code.\n",
    "\n",
    "Example:"
   ]
  },
  {
   "cell_type": "code",
   "execution_count": null,
   "metadata": {},
   "outputs": [],
   "source": [
    "# Ask Cursor: \"Generate documentation for this function\"\n",
    "def process_data(data, threshold):\n",
    "    \"\"\"\n",
    "    Process a list of numerical data by filtering and calculating the average.\n",
    "\n",
    "    This function takes a list of numbers and a threshold value. It filters out\n",
    "    all numbers less than or equal to the threshold, then calculates and returns\n",
    "    the average of the remaining numbers.\n",
    "\n",
    "    Parameters:\n",
    "    data (list): A list of numerical values to process.\n",
    "    threshold (float): The minimum value for data to be included in the calculation.\n",
    "\n",
    "    Returns:\n",
    "    float: The average of all values in 'data' that are greater than 'threshold'.\n",
    "\n",
    "    Raises:\n",
    "    ValueError: If the filtered data list is empty (i.e., no values above threshold).\n",
    "\n",
    "    Example:\n",
    "    >>> process_data([1, 2, 3, 4, 5], 3)\n",
    "    4.5\n",
    "    \"\"\"\n",
    "    filtered_data = [x for x in data if x > threshold]\n",
    "    return sum(filtered_data) / len(filtered_data)"
   ]
  },
  {
   "cell_type": "markdown",
   "metadata": {},
   "source": [
    "#### **✏️ Exercise**\n",
    "\n",
    "1. Use Cursor to create a Matplotlib animation of a circle orbiting around a box.\n",
    "   * **Hint**: You can use Cursor to debug the code if you run into issues.\n"
   ]
  },
  {
   "cell_type": "code",
   "execution_count": 16,
   "metadata": {},
   "outputs": [
    {
     "data": {
      "image/png": "[encoded data removed]",
      "text/plain": [
       "<Figure size 800x800 with 1 Axes>"
      ]
     },
     "metadata": {},
     "output_type": "display_data"
    }
   ],
   "source": [
    "import matplotlib.pyplot as plt\n",
    "import matplotlib.animation as animation\n",
    "import numpy as np\n",
    "\n",
    "# Create a figure and axis\n",
    "fig, ax = plt.subplots(figsize=(8, 8))  # Increase figure size\n",
    "\n",
    "# Create a box\n",
    "box = plt.Rectangle((-0.5, -0.5), 1, 1, fill=False)\n",
    "ax.add_patch(box)\n",
    "\n",
    "# Create a circle\n",
    "circle = plt.Circle((0, 0), 0.1, fill=True)\n",
    "ax.add_patch(circle)\n",
    "\n",
    "# Set the axis limits\n",
    "ax.set_xlim(-3, 3)  # Increase axis limits\n",
    "ax.set_ylim(-3, 3)  # Increase axis limits\n",
    "\n",
    "# Function to update the circle's position\n",
    "def update(frame):\n",
    "    angle = np.radians(frame)\n",
    "    x = 2.5 * np.cos(angle)  # Increase orbit radius\n",
    "    y = 2.5 * np.sin(angle)  # Increase orbit radius\n",
    "    circle.center = (x, y)\n",
    "    return circle,\n",
    "\n",
    "# Create the animation\n",
    "anim = animation.FuncAnimation(fig, update, frames=360, interval=20, blit=True)\n",
    "\n",
    "plt.title(\"Circle Orbiting a Box\")\n",
    "plt.axis('equal')\n",
    "plt.show()\n",
    "\n",
    "\n"
   ]
  },
  {
   "cell_type": "markdown",
   "metadata": {},
   "source": [
    "## Conclusion\n",
    "\n",
    "Cursor offers a range of powerful features that can significantly enhance your coding experience. As you become more familiar with these tools, you'll find that they can help you write better code more efficiently."
   ]
  }
 ],
 "metadata": {
  "kernelspec": {
   "display_name": "Python 3",
   "language": "python",
   "name": "python3"
  },
  "language_info": {
   "codemirror_mode": {
    "name": "ipython",
    "version": 3
   },
   "file_extension": ".py",
   "mimetype": "text/x-python",
   "name": "python",
   "nbconvert_exporter": "python",
   "pygments_lexer": "ipython3",
   "version": "3.12.5"
  }
 },
 "nbformat": 4,
 "nbformat_minor": 4
}
